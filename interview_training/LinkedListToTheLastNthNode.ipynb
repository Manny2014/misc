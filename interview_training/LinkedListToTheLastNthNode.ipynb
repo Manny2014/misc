{
 "cells": [
  {
   "cell_type": "code",
   "execution_count": 14,
   "metadata": {
    "collapsed": true
   },
   "outputs": [],
   "source": [
    "class Node:\n",
    "    def __init__(self, value):\n",
    "        self.value = value\n",
    "        self.nextnode  = None\n",
    "\n",
    "def nth_to_last_node(n, node):\n",
    "    current = node\n",
    "    counter = 1\n",
    "    return_node = None\n",
    "    while current:\n",
    "        if current.nextnode is None:\n",
    "            num_steps = counter - n\n",
    "            i = 0\n",
    "            while i <= num_steps:\n",
    "                return_node = node\n",
    "                node = node.nextnode\n",
    "                i+=1\n",
    "            break\n",
    "        else:\n",
    "            counter += 1\n",
    "            current = current.nextnode\n",
    "    return return_node.value\n"
   ]
  },
  {
   "cell_type": "code",
   "execution_count": 19,
   "metadata": {
    "collapsed": true
   },
   "outputs": [],
   "source": [
    "def nth_to_last_nodeV2(n, node):\n",
    "    right = node\n",
    "    left = node\n",
    "    \n",
    "    for i in xrange(n-1):\n",
    "        \n",
    "        # Check for edge case of not having enough nodes!\n",
    "        if not right.nextnode:\n",
    "            raise LookupError('Error: n is larger than the linked list.')\n",
    "            \n",
    "        right = right.nextnode\n",
    "    \n",
    "    while right.nextnode:\n",
    "        left = left.nextnode\n",
    "        right = right.nextnode\n",
    "    \n",
    "    return left.value\n",
    "        "
   ]
  },
  {
   "cell_type": "code",
   "execution_count": 25,
   "metadata": {},
   "outputs": [],
   "source": [
    "a = Node(1)\n",
    "b = Node(2)\n",
    "c = Node(3)\n",
    "d = Node(4)\n",
    "e = Node(5)\n",
    "\n",
    "a.nextnode = b\n",
    "b.nextnode = c\n",
    "c.nextnode = d\n",
    "d.nextnode = e\n"
   ]
  },
  {
   "cell_type": "code",
   "execution_count": 26,
   "metadata": {},
   "outputs": [
    {
     "name": "stdout",
     "output_type": "stream",
     "text": [
      "4\n",
      "4\n"
     ]
    }
   ],
   "source": [
    "print nth_to_last_nodeV2(2, a) \n",
    "print nth_to_last_node(2, a) "
   ]
  },
  {
   "cell_type": "code",
   "execution_count": null,
   "metadata": {
    "collapsed": true
   },
   "outputs": [],
   "source": []
  }
 ],
 "metadata": {
  "kernelspec": {
   "display_name": "Python 2",
   "language": "python",
   "name": "python2"
  },
  "language_info": {
   "codemirror_mode": {
    "name": "ipython",
    "version": 2
   },
   "file_extension": ".py",
   "mimetype": "text/x-python",
   "name": "python",
   "nbconvert_exporter": "python",
   "pygments_lexer": "ipython2",
   "version": "2.7.14"
  }
 },
 "nbformat": 4,
 "nbformat_minor": 2
}
