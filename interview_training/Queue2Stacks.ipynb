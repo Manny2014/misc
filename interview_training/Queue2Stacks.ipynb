{
 "cells": [
  {
   "cell_type": "code",
   "execution_count": null,
   "metadata": {
    "collapsed": true
   },
   "outputs": [],
   "source": [
    "class Queue2Stacks(object):\n",
    "    \n",
    "    def __init__(self):\n",
    "\n",
    "        # Two Stacks\n",
    "        self.instack = []\n",
    "        self.outstack = []\n",
    "\n",
    "    def enqueue(self,element):\n",
    "\n",
    "        self.instack.append(element)\n",
    "\n",
    "    def dequeue(self):\n",
    "\n",
    "        if not self.outstack:\n",
    "            while self.instack:\n",
    "                self.outstack.append(self.instack.pop())\n",
    "        \n",
    "        return self.outstack.pop()\n",
    "    \n",
    "\n",
    "q2 = Queue2Stacks()\n",
    "q2.enqueue(\"Manny\")\n",
    "q2.enqueue(\"is\")\n",
    "q2.enqueue(\"fresh\")\n",
    "\n",
    "print q2.dequeue()\n",
    "print q2.dequeue()\n",
    "print q2.dequeue()"
   ]
  }
 ],
 "metadata": {
  "kernelspec": {
   "display_name": "Python 2",
   "language": "python",
   "name": "python2"
  },
  "language_info": {
   "codemirror_mode": {
    "name": "ipython",
    "version": 2
   },
   "file_extension": ".py",
   "mimetype": "text/x-python",
   "name": "python",
   "nbconvert_exporter": "python",
   "pygments_lexer": "ipython2",
   "version": "2.7.14"
  }
 },
 "nbformat": 4,
 "nbformat_minor": 2
}
