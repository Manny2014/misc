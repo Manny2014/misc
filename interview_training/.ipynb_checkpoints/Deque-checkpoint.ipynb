{
 "cells": [
  {
   "cell_type": "code",
   "execution_count": null,
   "metadata": {
    "collapsed": true
   },
   "outputs": [],
   "source": [
    "# Two Ends\n",
    "# Items can be added either to front or rear\n",
    "# Existing items can be removed from either end"
   ]
  },
  {
   "cell_type": "code",
   "execution_count": null,
   "metadata": {
    "collapsed": true
   },
   "outputs": [],
   "source": [
    "class Deque(object):\n",
    "    \n",
    "    def __init__(self):\n",
    "        self.__items = []\n",
    "    \n",
    "    def isEmpty(self):\n",
    "        return self.__items == []\n",
    "    \n",
    "    def addFront(self,item):\n",
    "        self.__items.insert(0,item)\n",
    "    \n",
    "    def addRear(self,item):\n",
    "        return self.__items.append(item)\n",
    "    \n",
    "    def removeRear(self):\n",
    "        return self.__items.pop()\n",
    "    \n",
    "    def removeFront(self):\n",
    "        return self.__items.pop(0)\n",
    "    \n",
    "    def size(self):\n",
    "        return len(self.__items)\n",
    "    \n",
    "    def show(self):\n",
    "        return self.__items\n",
    "    \n",
    "\n",
    "            \n",
    "    \n",
    "    \n",
    "myStack = Deque()\n",
    "myStack.addFront(\"Manny\")\n",
    "myStack.addRear(30)\n",
    "myStack.addRear(False)\n",
    "myStack.addFront(\"Manny2\")\n",
    "\n",
    "print myStack.show()\n",
    "# print myStack.removeRear()\n",
    "# print myStack.removeFront()\n",
    "print myStack.show()\n",
    "\n"
   ]
  }
 ],
 "metadata": {
  "kernelspec": {
   "display_name": "Python 2",
   "language": "python",
   "name": "python2"
  },
  "language_info": {
   "codemirror_mode": {
    "name": "ipython",
    "version": 2
   },
   "file_extension": ".py",
   "mimetype": "text/x-python",
   "name": "python",
   "nbconvert_exporter": "python",
   "pygments_lexer": "ipython2",
   "version": "2.7.14"
  }
 },
 "nbformat": 4,
 "nbformat_minor": 2
}
