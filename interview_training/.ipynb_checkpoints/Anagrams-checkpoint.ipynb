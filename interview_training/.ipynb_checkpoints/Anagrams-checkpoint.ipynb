{
 "cells": [
  {
   "cell_type": "code",
   "execution_count": null,
   "metadata": {
    "collapsed": true
   },
   "outputs": [],
   "source": [
    "\n",
    "\n",
    "string_one = \"god is good\"\n",
    "string_two = \"good is god\"\n",
    "\n",
    "def anagramV1(s1,s2):\n",
    "    s1 = s1.lower().strip(' ')\n",
    "    s2 = s2.lower().strip(' ')\n",
    "    tracker = []\n",
    "    if len(s1) != len(s2):\n",
    "        return False\n",
    "    else:\n",
    "        for letter in s1:\n",
    "            if letter in s2:\n",
    "                tracker.append(True)\n",
    "            else:\n",
    "                tracker.append(False)\n",
    "\n",
    "        # Final verification\n",
    "        if not any(tracker):\n",
    "            return False\n",
    "        else:\n",
    "            return True\n",
    "        \n",
    "# Quick but not optimal\n",
    "def anagramV2(s1,s2):\n",
    "    s1 = sorted(s1.lower().replace(' ',\"\"))\n",
    "    s2 = sorted(s2.lower().replace(' ',\"\"))\n",
    "    return s1 == s2\n",
    "\n",
    "# Prefered Solution\n",
    "def anagramV3(s1,s2):\n",
    "    s1 = sorted(s1.lower().replace(' ',\"\"))\n",
    "    s2 = sorted(s2.lower().replace(' ',\"\"))\n",
    "    \n",
    "    if len(s1) != len(s2):\n",
    "        return False\n",
    "    else:\n",
    "        counter = {}\n",
    "        for letter in s1:\n",
    "            if letter in counter:\n",
    "                counter[letter] += 1\n",
    "            else:\n",
    "                counter[letter] = 1\n",
    "        for letter in s2:\n",
    "            if letter in counter:\n",
    "                counter[letter] -= 1\n",
    "            else:\n",
    "                counter[letter] = 1\n",
    "        # Check that all counts are 0\n",
    "        for k in counter:\n",
    "            if counter[k] != 0:\n",
    "                return False\n",
    "        \n",
    "        return True\n",
    "    \n",
    "print anagramV3(string_one, string_two)\n",
    "    \n",
    "    \n",
    "        "
   ]
  }
 ],
 "metadata": {
  "kernelspec": {
   "display_name": "Python 2",
   "language": "python",
   "name": "python2"
  },
  "language_info": {
   "codemirror_mode": {
    "name": "ipython",
    "version": 2
   },
   "file_extension": ".py",
   "mimetype": "text/x-python",
   "name": "python",
   "nbconvert_exporter": "python",
   "pygments_lexer": "ipython2",
   "version": "2.7.14"
  }
 },
 "nbformat": 4,
 "nbformat_minor": 2
}
