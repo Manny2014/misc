{
 "cells": [
  {
   "cell_type": "code",
   "execution_count": 1,
   "metadata": {
    "collapsed": true
   },
   "outputs": [],
   "source": [
    "# If all numbers in the array are positive, just sum all the elements in the array\n"
   ]
  },
  {
   "cell_type": "code",
   "execution_count": 8,
   "metadata": {
    "collapsed": true
   },
   "outputs": [],
   "source": [
    "def large_cont_sumV1(arr):\n",
    "    if len(arr) == 0:\n",
    "        return 0\n",
    "    \n",
    "    # initialize max/current sum to the first val of the array\n",
    "    max_sum = current_sum = arr[0]\n",
    "    \n",
    "    # Skip the first number bc we already used it above\n",
    "    for num in arr[1:]:\n",
    "        \n",
    "        # Get the max between current number+current_sum and num\n",
    "        current_sum = max(current_sum+num, num)\n",
    "        \n",
    "        # max sum will be the greater one between current sum and current max\n",
    "        max_sum = max(current_sum,max_sum)\n",
    "    \n",
    "    return max_sum\n",
    "    \n",
    "    "
   ]
  },
  {
   "cell_type": "code",
   "execution_count": 10,
   "metadata": {},
   "outputs": [
    {
     "data": {
      "text/plain": [
       "29"
      ]
     },
     "execution_count": 10,
     "metadata": {},
     "output_type": "execute_result"
    }
   ],
   "source": [
    "some_array = [1,2,-1,3,4,10,10,-10,-1]\n",
    "large_cont_sumV1(some_array)"
   ]
  },
  {
   "cell_type": "code",
   "execution_count": null,
   "metadata": {
    "collapsed": true
   },
   "outputs": [],
   "source": []
  }
 ],
 "metadata": {
  "kernelspec": {
   "display_name": "Python 2",
   "language": "python",
   "name": "python2"
  },
  "language_info": {
   "codemirror_mode": {
    "name": "ipython",
    "version": 2
   },
   "file_extension": ".py",
   "mimetype": "text/x-python",
   "name": "python",
   "nbconvert_exporter": "python",
   "pygments_lexer": "ipython2",
   "version": "2.7.14"
  }
 },
 "nbformat": 4,
 "nbformat_minor": 2
}
