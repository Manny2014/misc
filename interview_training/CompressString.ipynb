{
 "cells": [
  {
   "cell_type": "code",
   "execution_count": 1,
   "metadata": {},
   "outputs": [
    {
     "name": "stdout",
     "output_type": "stream",
     "text": [
      "A3a2C3B3\n"
     ]
    }
   ],
   "source": [
    "def compress(s):\n",
    "    \n",
    "    letter_tracker = {}\n",
    "    length = len(s)\n",
    "    spaces = [' ']\n",
    "    i = 0\n",
    "    final_string = \"\"\n",
    "    while i < length:\n",
    "        \n",
    "        if s[i] not in spaces:\n",
    "            if s[i] not in letter_tracker:\n",
    "                letter_tracker[s[i]] = 1\n",
    "            else:\n",
    "                letter_tracker[s[i]] += 1\n",
    "            \n",
    "        i+=1\n",
    "        \n",
    "    for k in letter_tracker:\n",
    "        final_string = final_string + \"%s%s\" % (k,letter_tracker[k])\n",
    "    \n",
    "    return final_string\n",
    "\n",
    "print compress(\"AAABBBCCCaa\")\n",
    "\n"
   ]
  },
  {
   "cell_type": "code",
   "execution_count": 3,
   "metadata": {},
   "outputs": [
    {
     "name": "stdout",
     "output_type": "stream",
     "text": [
      "A3a2C3B3T1t1\n"
     ]
    }
   ],
   "source": [
    "import collections\n",
    "\n",
    "def compressV2(s):\n",
    "    tracker = collections.defaultdict(int)\n",
    "    spaces = [' ']\n",
    "    \n",
    "    # Check edge case\n",
    "    if len(s) == 0:\n",
    "        return None\n",
    "    elif len(s) == 1:\n",
    "        return s + \"1\"\n",
    "    \n",
    "    for el in s:\n",
    "        if el not in spaces:\n",
    "            tracker[el] +=1\n",
    "    \n",
    "    return \"\".join([\"{0}{1}\".format(k,v) for k,v in tracker.iteritems()])\n",
    "            \n",
    "\n",
    "print compress(\"AAABBBCCCaaTt\")\n"
   ]
  },
  {
   "cell_type": "code",
   "execution_count": 4,
   "metadata": {},
   "outputs": [
    {
     "name": "stdout",
     "output_type": "stream",
     "text": [
      "A1B3b3C3t3T3B3\n"
     ]
    }
   ],
   "source": [
    "\n",
    "def compressV3(s):\n",
    "    # Check edge case\n",
    "    if len(s) == 0:\n",
    "        return None\n",
    "    elif len(s) == 1:\n",
    "        return s + \"1\"\n",
    "    \n",
    "    cnt = 1\n",
    "    i = 0\n",
    "    r = \"\"\n",
    "    while i < len(s):\n",
    "        if s[i] == s[i-1]:\n",
    "            cnt +=1\n",
    "        else:\n",
    "            r = r + s[i] + str(cnt)\n",
    "        i +=1\n",
    "    return r\n",
    "            \n",
    "\n",
    "print compressV3(\"AAABbCtTBBB\")"
   ]
  },
  {
   "cell_type": "code",
   "execution_count": null,
   "metadata": {
    "collapsed": true
   },
   "outputs": [],
   "source": []
  }
 ],
 "metadata": {
  "kernelspec": {
   "display_name": "Python 2",
   "language": "python",
   "name": "python2"
  },
  "language_info": {
   "codemirror_mode": {
    "name": "ipython",
    "version": 2
   },
   "file_extension": ".py",
   "mimetype": "text/x-python",
   "name": "python",
   "nbconvert_exporter": "python",
   "pygments_lexer": "ipython2",
   "version": "2.7.14"
  }
 },
 "nbformat": 4,
 "nbformat_minor": 2
}
