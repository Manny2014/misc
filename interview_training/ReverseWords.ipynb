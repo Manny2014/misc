{
 "cells": [
  {
   "cell_type": "code",
   "execution_count": null,
   "metadata": {
    "collapsed": true
   },
   "outputs": [],
   "source": [
    "def rev_wordsV1(s):\n",
    "    \n",
    "    # Check if there is more than one word\n",
    "    if not ' ' in s:\n",
    "        print \"Cannot reverse one word\"\n",
    "    \n",
    "    # Get all words in the string, including spaces\n",
    "    s_list = s.split(' ')\n",
    "    \n",
    "    # Split list\n",
    "    s_list.reverse()\n",
    "    print \" \".join(map(str,list(s_list)))\n",
    "    \n",
    "\n",
    "s = \"jime loves manny\"\n",
    "\n",
    "def rev_wordsV2(s):\n",
    "    \n",
    "    words= []\n",
    "    length = len(s)\n",
    "    spaces = [' ']\n",
    "    i = 0\n",
    "    while i < length:\n",
    "        if s[i] not in spaces:\n",
    "            word_start = i\n",
    "            \n",
    "            while i < length and s[i] not in spaces:\n",
    "                i+=1\n",
    "            \n",
    "            words.append(s[word_start:i])\n",
    "        i+=1\n",
    "    \n",
    "    return \" \".join(reversed(words))\n",
    "\n",
    "print rev_wordsV2(s)"
   ]
  }
 ],
 "metadata": {
  "kernelspec": {
   "display_name": "Python 2",
   "language": "python",
   "name": "python2"
  },
  "language_info": {
   "codemirror_mode": {
    "name": "ipython",
    "version": 2
   },
   "file_extension": ".py",
   "mimetype": "text/x-python",
   "name": "python",
   "nbconvert_exporter": "python",
   "pygments_lexer": "ipython2",
   "version": "2.7.14"
  }
 },
 "nbformat": 4,
 "nbformat_minor": 2
}
