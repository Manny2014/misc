{
 "cells": [
  {
   "cell_type": "code",
   "execution_count": 14,
   "metadata": {},
   "outputs": [
    {
     "data": {
      "text/plain": [
       "'(2, 5)'"
      ]
     },
     "execution_count": 14,
     "metadata": {},
     "output_type": "execute_result"
    }
   ],
   "source": [
    "\n",
    "test_list = [1,3,2,1,5]\n",
    "test_num = 7\n",
    "\n",
    "def pair_sumV1(numlist, num):\n",
    "    \n",
    "    length = len(numlist)\n",
    "    pairs = []\n",
    "    counter = 0\n",
    "    for index, item in enumerate(numlist):\n",
    "        for inner_index, inner_item in enumerate(numlist):\n",
    "            if inner_index != index:\n",
    "                if item + inner_item == num:\n",
    "                    if not (item,inner_item) in pairs:\n",
    "                        pairs.append((item,inner_item))\n",
    "            \n",
    "\n",
    "    for pair in pairs:\n",
    "        print pair\n",
    "            \n",
    "def pair_sumV2(numlist,k):\n",
    "    \n",
    "    # Deal with Edge case\n",
    "    if len(numlist) < 2:\n",
    "        raise ArithmeticError(\"List has less than two numbers\")\n",
    "    \n",
    "    # Keep track of output/seen with sets\n",
    "    seen = set()\n",
    "    output = set()\n",
    "    \n",
    "    for num in numlist:\n",
    "        \n",
    "        # get target\n",
    "        print \"%s and %s\"  % (k,num)\n",
    "        target = k - num\n",
    "        print \"Target is: %s\" % target\n",
    "        \n",
    "        # Check if we have seen this target\n",
    "        if target not in seen:\n",
    "            print \"Adding %s to seen\" % target\n",
    "            seen.add(num)\n",
    "        else:\n",
    "            print \"Adding %s to output\" % target\n",
    "            output.add((min(num,target),max(num,target)))\n",
    "    \n",
    "    print '\\n'.join(map(str,list(output)))\n",
    "\n",
    "plist = [1,4,5,7,8,9,3,6]\n",
    "pnum = 9\n",
    "\n",
    "pair_sumV2(plist,pnum)"
   ]
  },
  {
   "cell_type": "code",
   "execution_count": null,
   "metadata": {
    "collapsed": true
   },
   "outputs": [],
   "source": []
  },
  {
   "cell_type": "code",
   "execution_count": null,
   "metadata": {
    "collapsed": true
   },
   "outputs": [],
   "source": []
  }
 ],
 "metadata": {
  "kernelspec": {
   "display_name": "Python 2",
   "language": "python",
   "name": "python2"
  },
  "language_info": {
   "codemirror_mode": {
    "name": "ipython",
    "version": 2
   },
   "file_extension": ".py",
   "mimetype": "text/x-python",
   "name": "python",
   "nbconvert_exporter": "python",
   "pygments_lexer": "ipython2",
   "version": "2.7.14"
  }
 },
 "nbformat": 4,
 "nbformat_minor": 2
}
