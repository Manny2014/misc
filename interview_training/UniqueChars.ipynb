{
 "cells": [
  {
   "cell_type": "code",
   "execution_count": null,
   "metadata": {
    "collapsed": true
   },
   "outputs": [],
   "source": [
    "def uni_char(s):\n",
    "    # Get reusable vars\n",
    "    l = len(s)\n",
    "    mid = l / 2\n",
    "    \n",
    "    # Edge cases\n",
    "    if l == 0:\n",
    "        return None\n",
    "    elif l == 1:\n",
    "        return True\n",
    "    \n",
    "    i = 0\n",
    "    \n",
    "    while i < l:\n",
    "        if s[i] in s[i+1:]:\n",
    "            return False\n",
    "        elif s[i] in s[:i]:\n",
    "            return False\n",
    "        else:\n",
    "            i+=1\n",
    "    \n",
    "    return True\n",
    "        \n",
    "                \n",
    "def uni_charV2(s):\n",
    "    return len(set(s)) == len(s)\n",
    "\n",
    "def uni_charV3(s):\n",
    "    char = set()\n",
    "    \n",
    "    for let in s:\n",
    "        if let in char:\n",
    "            return False\n",
    "        else:\n",
    "            char.add(let)\n",
    "    \n",
    "    return True\n"
   ]
  }
 ],
 "metadata": {
  "kernelspec": {
   "display_name": "Python 2",
   "language": "python",
   "name": "python2"
  },
  "language_info": {
   "codemirror_mode": {
    "name": "ipython",
    "version": 2
   },
   "file_extension": ".py",
   "mimetype": "text/x-python",
   "name": "python",
   "nbconvert_exporter": "python",
   "pygments_lexer": "ipython2",
   "version": "2.7.14"
  }
 },
 "nbformat": 4,
 "nbformat_minor": 2
}
