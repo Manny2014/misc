{
 "cells": [
  {
   "cell_type": "code",
   "execution_count": null,
   "metadata": {
    "collapsed": true
   },
   "outputs": [],
   "source": [
    "class Queue (object):\n",
    "    \n",
    "    def __init__(self):\n",
    "        self.__items = []\n",
    "    \n",
    "    def isEmpty(self):\n",
    "        return self.__items == []\n",
    "    \n",
    "    def enqueue(self,item):\n",
    "        self.__items.insert(0,item)\n",
    "    \n",
    "    def dequeue(self):\n",
    "        return self.__items.pop()\n",
    "    \n",
    "    def size(self):\n",
    "        return len(self.__items)\n",
    "    \n",
    "    \n",
    "    \n",
    "myStack = Queue()\n",
    "myStack.enqueue(\"Manny\")\n",
    "myStack.enqueue(30)\n",
    "myStack.enqueue(False)\n",
    "\n",
    "print myStack.dequeue()\n",
    "print myStack.dequeue()\n",
    "print myStack.dequeue()\n",
    "\n"
   ]
  }
 ],
 "metadata": {
  "kernelspec": {
   "display_name": "Python 2",
   "language": "python",
   "name": "python2"
  },
  "language_info": {
   "codemirror_mode": {
    "name": "ipython",
    "version": 2
   },
   "file_extension": ".py",
   "mimetype": "text/x-python",
   "name": "python",
   "nbconvert_exporter": "python",
   "pygments_lexer": "ipython2",
   "version": "2.7.14"
  }
 },
 "nbformat": 4,
 "nbformat_minor": 2
}
