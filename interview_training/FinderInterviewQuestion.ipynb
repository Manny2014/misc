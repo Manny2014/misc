{
 "cells": [
  {
   "cell_type": "code",
   "execution_count": 5,
   "metadata": {},
   "outputs": [
    {
     "name": "stdout",
     "output_type": "stream",
     "text": [
      "3\n"
     ]
    }
   ],
   "source": [
    "def finderV1(l1,l2):\n",
    "    l1_sum = sum(l1)\n",
    "    l2_sum = sum(l2)\n",
    "    \n",
    "    return l1_sum - l2_sum\n",
    "\n",
    "def finderV2(l1,l2):\n",
    "    l1.sort()\n",
    "    l2.sort()\n",
    "    \n",
    "    for num1,num2 in zip(l1,l2):\n",
    "        if num1 != num2:\n",
    "            return num1\n",
    "    \n",
    "    return l1[-1]\n",
    "\n",
    "\n",
    "import collections\n",
    "\n",
    "def finderV3(l1,l2):\n",
    "    d = collections.defaultdict(int)\n",
    "    \n",
    "    for num in l2:\n",
    "        d[num] += 1\n",
    "    \n",
    "    for num in l1:\n",
    "        if d[num] == 0:\n",
    "            return num\n",
    "        else:\n",
    "            d[num] -= 1\n",
    "    \n",
    "# Using Exclusive or    \n",
    "def finderV4(l1,l2):\n",
    "    result = 0\n",
    "    \n",
    "    for num in l1 + l2:\n",
    "        result ^= num\n",
    "    \n",
    "    return result\n",
    "    \n",
    "l1 = [1,3,3,6]\n",
    "l2 = [1,6,3]\n",
    "\n",
    "print finderV4(l1,l2)"
   ]
  },
  {
   "cell_type": "code",
   "execution_count": null,
   "metadata": {
    "collapsed": true
   },
   "outputs": [],
   "source": []
  }
 ],
 "metadata": {
  "kernelspec": {
   "display_name": "Python 2",
   "language": "python",
   "name": "python2"
  },
  "language_info": {
   "codemirror_mode": {
    "name": "ipython",
    "version": 2
   },
   "file_extension": ".py",
   "mimetype": "text/x-python",
   "name": "python",
   "nbconvert_exporter": "python",
   "pygments_lexer": "ipython2",
   "version": "2.7.14"
  }
 },
 "nbformat": 4,
 "nbformat_minor": 2
}
